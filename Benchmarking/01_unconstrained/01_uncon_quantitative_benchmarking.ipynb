{
 "cells": [
  {
   "cell_type": "code",
   "execution_count": null,
   "metadata": {},
   "outputs": [],
   "source": [
    "###########\n",
    "# Imports #\n",
    "###########\n",
    "\n",
    "# importing libraries\n",
    "import matplotlib.pyplot as plt\n",
    "import copy\n",
    "# importing algorithms\n",
    "from BFGS_multistart import*\n",
    "from Stochastic_local_search import*\n",
    "from Cuadratic_opt_v2 import *\n",
    "from Scipy_opt_algs import*\n",
    "from BO_NpScpy import*\n",
    "# importing test functions\n",
    "from test_function import*\n",
    "from utils import *\n",
    "from COBYQA import *\n",
    "from ScikitQuant_opt_algs import *\n",
    "from pySOT_opt_algs import *\n",
    "from CUATRO import *\n",
    "from ENTMOOT import *\n",
    "\n",
    "\n",
    "##########################\n",
    "# Algorithms & Functions #\n",
    "##########################\n",
    "\n",
    "\n",
    "\n",
    "algorithms_test = [\n",
    "    # LS_QM_v2,\n",
    "    # opt_SnobFit,\n",
    "    # opt_SRBF,\n",
    "    # opt_DYCORS,\n",
    "    # opt_SOP,\n",
    "    # opt_COBYLA,\n",
    "    # COBYQA,\n",
    "    # opt_CUATRO,\n",
    "    # opt_CUATRO_pls,\n",
    "    BO_np_scipy,\n",
    "    # opt_ENTMOOT,\n",
    "    ]\n",
    "\n",
    "functions_test  = [  #!!! Multimodal before Unimodal!!!\n",
    "    'Levy_f',\n",
    "    'Ackley_f',\n",
    "    'Rosenbrock_f',\n",
    "    'Antonio_f',\n",
    "    ]\n",
    "\n",
    "multim  = ['Levy_f', 'Ackley_f']\n",
    "unim    = ['Rosenbrock_f', 'Antonio_f']\n",
    "\n",
    "###########################\n",
    "# Optimization parameters #\n",
    "###########################\n",
    "\n",
    "N_x_l        = [\n",
    "    2,\n",
    "    5,\n",
    "    7,\n",
    "    ]               # Number of input dimensions\n",
    "\n",
    "start_       = [5, 10, 15]              # starting points on the trajectory of the algorithm on the test function\n",
    "\n",
    "reps         = 2                        # We run each algorithm 5 times on each objective function. The number of evaluations per run is given by f_eval_l\n",
    "f_eval_l     = [\n",
    "    20,\n",
    "    50,\n",
    "    100\n",
    "    ]  # These are the number of function evaluations (length of trajectory) foreach run in reps. The number depends on the input dimension N_x_l\n",
    "\n",
    "home_dir  = 'images/trajectory_plots_1D_&_tables'"
   ]
  },
  {
   "cell_type": "code",
   "execution_count": null,
   "metadata": {},
   "outputs": [],
   "source": [
    "info, trajectories, timestamp = ML4CE_uncon_eval(N_x_l,f_eval_l,functions_test,algorithms_test,reps, home_dir, SafeData = False)"
   ]
  },
  {
   "cell_type": "markdown",
   "metadata": {},
   "source": [
    "### Benchmark"
   ]
  },
  {
   "cell_type": "markdown",
   "metadata": {},
   "source": [
    "### Load trajectories"
   ]
  },
  {
   "cell_type": "code",
   "execution_count": null,
   "metadata": {},
   "outputs": [],
   "source": [
    "# import pickle\n",
    "\n",
    "# # Open the file in binary mode for reading\n",
    "# with open(r'C:\\Users\\mathi\\OneDrive\\01_Studium\\PhD\\Projects\\01_Book_Chapter\\DDO-4-ChemEng\\Benchmarking\\01_unconstrained\\images\\trajectory_plots_1D_&_tables\\2024-06-11_18-46-16\\trajectories.pkl', 'rb') as file:\n",
    "#     # Load the object from the file\n",
    "#     trajectories = pickle.load(file)\n",
    "\n",
    "# # when loading data make sure to copy the folder name to get the timestamp\n",
    "# timestamp = '2024-06-11_18-46-16'"
   ]
  },
  {
   "cell_type": "markdown",
   "metadata": {},
   "source": [
    "### Plot performance tables "
   ]
  },
  {
   "cell_type": "code",
   "execution_count": null,
   "metadata": {},
   "outputs": [],
   "source": [
    "array = ML4CE_uncon_table(trajectories,algorithms_test,functions_test, multim, N_x_l, start_)"
   ]
  },
  {
   "cell_type": "code",
   "execution_count": null,
   "metadata": {},
   "outputs": [],
   "source": [
    "ML4CE_uncon_table_plot(array, functions_test, algorithms_test, N_x_l, home_dir, timestamp, SafeFig = False)"
   ]
  },
  {
   "cell_type": "markdown",
   "metadata": {},
   "source": [
    "### Plot graphs"
   ]
  },
  {
   "cell_type": "code",
   "execution_count": null,
   "metadata": {},
   "outputs": [],
   "source": [
    "ML4CE_uncon_graph_abs(trajectories, algorithms_test, functions_test, N_x_l, home_dir, timestamp, SafeFig=False)"
   ]
  },
  {
   "cell_type": "code",
   "execution_count": null,
   "metadata": {},
   "outputs": [],
   "source": [
    "# ML4CE_uncon_graph_rel(trajectories, algorithms_test, functions_test, N_x_l)"
   ]
  }
 ],
 "metadata": {
  "kernelspec": {
   "display_name": "ddopt",
   "language": "python",
   "name": "python3"
  },
  "language_info": {
   "codemirror_mode": {
    "name": "ipython",
    "version": 3
   },
   "file_extension": ".py",
   "mimetype": "text/x-python",
   "name": "python",
   "nbconvert_exporter": "python",
   "pygments_lexer": "ipython3",
   "version": "3.11.9"
  }
 },
 "nbformat": 4,
 "nbformat_minor": 2
}
