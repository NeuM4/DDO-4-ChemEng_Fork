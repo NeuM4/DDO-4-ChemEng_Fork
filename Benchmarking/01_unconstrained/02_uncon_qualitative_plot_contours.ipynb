{
 "cells": [
  {
   "cell_type": "markdown",
   "metadata": {},
   "source": [
    "This is a purely qualitative analysis. This is why this part is detached from the \"benchmarking.ipynb\". It does its own 2D \"benchmarking\" but rather to produce the trajectory points that go into the 2D contour plots. The trajectories seen here should qualitatively represent the ones in the benchmarking, however they are not actual runs that went into the performance tables. "
   ]
  },
  {
   "cell_type": "markdown",
   "metadata": {},
   "source": [
    "### Imports"
   ]
  },
  {
   "cell_type": "code",
   "execution_count": null,
   "metadata": {},
   "outputs": [],
   "source": [
    "###########\n",
    "# Imports #\n",
    "###########\n",
    "\n",
    "# importing libraries\n",
    "import matplotlib.pyplot as plt\n",
    "import copy\n",
    "# importing algorithms\n",
    "from Stochastic_local_search import*\n",
    "from Cuadratic_opt_v2 import *\n",
    "from Scipy_opt_algs import*\n",
    "from BO_NpScpy import*\n",
    "# importing test functions\n",
    "from test_function import*\n",
    "from utils import *\n",
    "from COBYQA import *\n",
    "from ScikitQuant_opt_algs import *\n",
    "from pySOT_opt_algs import *\n",
    "from CUATRO import *\n",
    "from ENTMOOT import *"
   ]
  },
  {
   "cell_type": "markdown",
   "metadata": {},
   "source": [
    "### Basic lists and values"
   ]
  },
  {
   "cell_type": "code",
   "execution_count": null,
   "metadata": {},
   "outputs": [],
   "source": [
    "algorithms_test = [\n",
    "    # LS_QM_v2,\n",
    "    # opt_SnobFit,\n",
    "    # opt_SRBF,\n",
    "    # opt_DYCORS,\n",
    "    # opt_SOP,\n",
    "    # opt_COBYLA,\n",
    "    # COBYQA,\n",
    "    # opt_CUATRO,\n",
    "    # BO_np_scipy,\n",
    "    opt_ENTMOOT,\n",
    "    ]\n",
    "\n",
    "functions_test  = [  #!!! Multimodal before Unimodal!!!\n",
    "    'Levy_f',\n",
    "    # 'Ackley_f',\n",
    "    # 'Rosenbrock_f',\n",
    "    # 'Antonio_f',\n",
    "    ]\n",
    "\n",
    "multim  = ['Levy_f', 'Ackley_f']\n",
    "unim    = ['Rosenbrock_f', 'Antonio_f']\n",
    "\n",
    "# no. input dimensions\n",
    "N_x_ = 2\n",
    "\n",
    "# repetition for random shift\n",
    "i_rep = 0\n",
    "reps         = 5\n",
    "# randShift_l = np.random.uniform(-3,3, (reps,N_x_))\n",
    "# x_shift_ = randShift_l[i_rep,:].reshape((N_x_,1))\n",
    "\n",
    "\n",
    "\n",
    "# bounds and other settings\n",
    "track_x = True\n",
    "x_shift_origin = np.array([[0],[0]]) # when wanting to not shift the objective function\n",
    "bounds_ = np.array([[-7., 7.], [-7., 7.]]) # x1 bounds, x2 bounds these are taken from the benchmarking routine\n",
    "bounds_plot = np.array([[-7, 7], [-7, 7]]) \n",
    "samples_number = 10 # for BO\n"
   ]
  },
  {
   "cell_type": "markdown",
   "metadata": {},
   "source": [
    "Run 2D contours all in one"
   ]
  },
  {
   "cell_type": "code",
   "execution_count": null,
   "metadata": {},
   "outputs": [],
   "source": [
    "ML4CE_uncon_contour_allin1(functions_test, algorithms_test, N_x_, x_shift_origin, bounds_, bounds_plot, SafeFig=False)"
   ]
  },
  {
   "cell_type": "markdown",
   "metadata": {},
   "source": [
    "### Run 2 dimensional and plot trajectory"
   ]
  },
  {
   "cell_type": "code",
   "execution_count": null,
   "metadata": {},
   "outputs": [],
   "source": [
    "f_eval_ = 40 # trajectory length (= evaluation budget) --> Keep in mind that BO uses 10 datapoints to build the model when plotting\n",
    "\n",
    "for fun_ in functions_test:\n",
    "    for alg_ in algorithms_test:\n",
    "        t_ = Test_function(fun_, N_x_, track_x, x_shift_origin, bounds_)\n",
    "        print(alg_)\n",
    "        a, b, team_names, cids = alg_(t_, N_x_, bounds_, f_eval_, has_x0=True)\n",
    "        X_opt = np.array(t_.x_list[:f_eval_+1]) # needs to be capped because of COBYLA not respecting the budget\n",
    "        print(len(t_.x_list))\n",
    "        ML4CE_uncon_contours(t_, alg_, bounds_plot, X_opt, X_opt[-1], samples_number, fun_, SafeFig=False)"
   ]
  }
 ],
 "metadata": {
  "kernelspec": {
   "display_name": "ddopt",
   "language": "python",
   "name": "python3"
  },
  "language_info": {
   "codemirror_mode": {
    "name": "ipython",
    "version": 3
   },
   "file_extension": ".py",
   "mimetype": "text/x-python",
   "name": "python",
   "nbconvert_exporter": "python",
   "pygments_lexer": "ipython3",
   "version": "3.11.9"
  }
 },
 "nbformat": 4,
 "nbformat_minor": 2
}
