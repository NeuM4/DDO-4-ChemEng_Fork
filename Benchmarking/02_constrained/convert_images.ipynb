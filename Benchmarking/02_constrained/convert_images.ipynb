{
 "cells": [
  {
   "cell_type": "code",
   "execution_count": 6,
   "metadata": {},
   "outputs": [],
   "source": [
    "from PIL import Image\n",
    "\n",
    "# Open the PNG image\n",
    "png_image = Image.open(r\"C:\\Users\\mathi\\Downloads\\WO_f_allin1.png\")\n",
    "\n",
    "# Convert the image to RGB mode\n",
    "rgb_image = png_image.convert('RGB')\n",
    "\n",
    "# Save the image as JPG\n",
    "rgb_image.save(r\"C:\\Users\\mathi\\Downloads\\WO_f_allin1.jpg\", quality=95)\n"
   ]
  }
 ],
 "metadata": {
  "kernelspec": {
   "display_name": "ddopt_2",
   "language": "python",
   "name": "python3"
  },
  "language_info": {
   "codemirror_mode": {
    "name": "ipython",
    "version": 3
   },
   "file_extension": ".py",
   "mimetype": "text/x-python",
   "name": "python",
   "nbconvert_exporter": "python",
   "pygments_lexer": "ipython3",
   "version": "3.11.9"
  }
 },
 "nbformat": 4,
 "nbformat_minor": 2
}
