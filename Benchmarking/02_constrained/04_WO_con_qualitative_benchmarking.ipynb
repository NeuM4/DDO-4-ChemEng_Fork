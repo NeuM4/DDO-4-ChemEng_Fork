{
 "cells": [
  {
   "cell_type": "code",
   "execution_count": 1,
   "metadata": {},
   "outputs": [],
   "source": [
    "from BO import *\n",
    "from COBYLA import *\n",
    "from COBYQA import *\n",
    "from utils import *\n",
    "from test_function_constr import *\n",
    "from ENTMOOT import *"
   ]
  },
  {
   "cell_type": "code",
   "execution_count": 2,
   "metadata": {},
   "outputs": [],
   "source": [
    "algorithms_test = [\n",
    "    CBO_opt,\n",
    "    CBO_TR_opt,\n",
    "    COBYLA,\n",
    "    COBYQA,\n",
    "    opt_ENTMOOT,\n",
    "    # # CUATRO,\n",
    "]\n",
    "\n",
    "functions_test  = [\n",
    "    'WO_f',\n",
    "    ]\n",
    "\n",
    "N_x_l        = [\n",
    "    2,\n",
    "    ]               # Number of input dimensions\n",
    "\n",
    "start_       = [5, 10, 15] # we start counting the last 15 points / 40 points / 85 points from each trajectory instead of all of them\n",
    "\n",
    "reps         = 1\n",
    "\n",
    "f_eval_l     = [\n",
    "    20,\n",
    "    ]  # These are the number of function evaluations (length of trajectory) foreach run in reps. The number depends on the input dimension N_x_l\n",
    "\n",
    "bounds  = np.array([[4., 7.], [70., 100.]])\n",
    "home_dir  = 'images/WO/trajectory_plots_1D_&_tables'\n",
    "track_x = True\n",
    "N_x_ = 2\n",
    "f_eval_=20\n",
    "i_rep = 0\n",
    "TR_plot = False"
   ]
  },
  {
   "cell_type": "code",
   "execution_count": 3,
   "metadata": {},
   "outputs": [
    {
     "name": "stdout",
     "output_type": "stream",
     "text": [
      "- preliminar data supplied, computing objective and constraint values\n",
      "[[0. 0. 0. 0. 0. 0. 0. 0. 0. 0.]\n",
      " [0. 0. 0. 0. 0. 0. 0. 0. 0. 0.]\n",
      " [0. 0. 0. 0. 0. 0. 0. 0. 0. 0.]]\n",
      "[<bound method Test_function.fun_test of <test_function_constr.Test_function object at 0x00000221C86E44D0>>, <bound method Test_function.WO_con1_test of <test_function_constr.Test_function object at 0x00000221C86E44D0>>, <bound method Test_function.WO_con2_test of <test_function_constr.Test_function object at 0x00000221C86E44D0>>]\n",
      "[[74.14698358 68.79598163 80.30582093  7.72270879 76.26130718 -6.25752926\n",
      "  13.32643991 91.08645555 -7.886886   79.21256876]\n",
      " [ 0.          0.          0.          0.          0.          0.\n",
      "   0.          0.          0.          0.        ]\n",
      " [ 0.          0.          0.          0.          0.          0.\n",
      "   0.          0.          0.          0.        ]]\n",
      "[[ 7.41469836e+01  6.87959816e+01  8.03058209e+01  7.72270879e+00\n",
      "   7.62613072e+01 -6.25752926e+00  1.33264399e+01  9.10864556e+01\n",
      "  -7.88688600e+00  7.92125688e+01]\n",
      " [ 4.40104805e-02  4.37751699e-02  4.45281569e-02  3.45991780e-02\n",
      "   4.44735736e-02  3.33999232e-02  3.82285701e-02  4.57570610e-02\n",
      "   3.34117095e-02  4.37433490e-02]\n",
      " [ 0.00000000e+00  0.00000000e+00  0.00000000e+00  0.00000000e+00\n",
      "   0.00000000e+00  0.00000000e+00  0.00000000e+00  0.00000000e+00\n",
      "   0.00000000e+00  0.00000000e+00]]\n",
      "[[ 7.41469836e+01  6.87959816e+01  8.03058209e+01  7.72270879e+00\n",
      "   7.62613072e+01 -6.25752926e+00  1.33264399e+01  9.10864556e+01\n",
      "  -7.88688600e+00  7.92125688e+01]\n",
      " [ 4.40104805e-02  4.37751699e-02  4.45281569e-02  3.45991780e-02\n",
      "   4.44735736e-02  3.33999232e-02  3.82285701e-02  4.57570610e-02\n",
      "   3.34117095e-02  4.37433490e-02]\n",
      " [ 3.82707260e-02  3.74992835e-02  3.90361669e-02  2.85876854e-02\n",
      "   3.84329640e-02  2.53068299e-02  2.86401959e-02  4.01822390e-02\n",
      "   2.48372805e-02  3.91526939e-02]]\n",
      "note: remember constraints are set as positive, so they should be set as -g(x)\n"
     ]
    },
    {
     "name": "stderr",
     "output_type": "stream",
     "text": [
      " 90%|█████████ | 9/10 [00:17<00:02,  2.81s/it]"
     ]
    }
   ],
   "source": [
    "for alg_ in algorithms_test:\n",
    "    for func_ in functions_test:\n",
    "        t_ = Test_function(func_, n_x=2, track_x=track_x)\n",
    "        a, b, team_names, cids, X_opt_plot, TR_l, xnew, backtrck_l, samples_number = alg_(t_, N_x_, bounds, f_eval_, i_rep)\n",
    "        ML4CE_con_contours(t_, alg_, bounds, X_opt_plot, xnew, samples_number, func_, TR_plot, TR_l, SafeFig = False)"
   ]
  }
 ],
 "metadata": {
  "kernelspec": {
   "display_name": "ddopt_2",
   "language": "python",
   "name": "python3"
  },
  "language_info": {
   "codemirror_mode": {
    "name": "ipython",
    "version": 3
   },
   "file_extension": ".py",
   "mimetype": "text/x-python",
   "name": "python",
   "nbconvert_exporter": "python",
   "pygments_lexer": "ipython3",
   "version": "3.11.9"
  }
 },
 "nbformat": 4,
 "nbformat_minor": 2
}
