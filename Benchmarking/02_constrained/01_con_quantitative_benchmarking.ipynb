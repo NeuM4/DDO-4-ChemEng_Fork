{
 "cells": [
  {
   "cell_type": "code",
   "execution_count": null,
   "metadata": {},
   "outputs": [],
   "source": [
    "from BO import *\n",
    "from COBYLA import *\n",
    "from COBYQA import *\n",
    "from utils import *\n",
    "from test_function_constr import *\n",
    "from ENTMOOT import *\n",
    "from CUATRO import*\n"
   ]
  },
  {
   "cell_type": "code",
   "execution_count": null,
   "metadata": {},
   "outputs": [],
   "source": [
    "algorithms_test = [\n",
    "    CBO_opt,\n",
    "    CBO_TR_opt,\n",
    "    COBYLA,\n",
    "    COBYQA,\n",
    "    opt_CUATRO,\n",
    "]\n",
    "\n",
    "functions_test  = [\n",
    "    'Rosenbrock_f',\n",
    "    'Antonio_f',\n",
    "    'Matyas_f',\n",
    "    ]\n",
    "\n",
    "N_x_l        = [\n",
    "    2,\n",
    "    ]               # Number of input dimensions\n",
    "\n",
    "start_       = [5, 10, 15] # we start counting the last 15 points / 40 points / 85 points from each trajectory instead of all of them\n",
    "\n",
    "reps         = 2\n",
    "f_eval_l     = [\n",
    "    20,\n",
    "    ]  # These are the number of function evaluations (length of trajectory) foreach run in reps. The number depends on the input dimension N_x_l\n",
    "\n",
    "bounds_ = [[-7., 7.], [-7., 7.]]\n",
    "\n",
    "home_dir  = 'images/trajectory_plots_1D_&_tables'\n",
    "SaveData = False"
   ]
  },
  {
   "cell_type": "code",
   "execution_count": null,
   "metadata": {},
   "outputs": [],
   "source": [
    "info, trajectories, timestamp = ML4CE_con_eval(N_x_l, f_eval_l, functions_test, algorithms_test, reps, home_dir, SafeData=SaveData)"
   ]
  },
  {
   "cell_type": "code",
   "execution_count": null,
   "metadata": {},
   "outputs": [],
   "source": [
    "test_res, vio_dict= ML4CE_con_table(trajectories, algorithms_test, functions_test, N_x_l)"
   ]
  },
  {
   "cell_type": "code",
   "execution_count": null,
   "metadata": {},
   "outputs": [],
   "source": [
    "# this produces an error but still does the plot we want\n",
    "ML4CE_con_table_plot(test_res, functions_test, algorithms_test, N_x_l, home_dir, timestamp, SafeFig = SaveData)"
   ]
  },
  {
   "cell_type": "code",
   "execution_count": null,
   "metadata": {},
   "outputs": [],
   "source": [
    "ML4CE_con_graph_abs(trajectories, algorithms_test, functions_test, N_x_l, home_dir, timestamp, SafeFig=SaveData)"
   ]
  },
  {
   "cell_type": "code",
   "execution_count": null,
   "metadata": {},
   "outputs": [],
   "source": [
    "ML4CE_con_graph_abs_g(trajectories, algorithms_test, functions_test, N_x_l, home_dir, timestamp, SafeFig=SaveData)"
   ]
  }
 ],
 "metadata": {
  "kernelspec": {
   "display_name": "ddopt",
   "language": "python",
   "name": "python3"
  },
  "language_info": {
   "codemirror_mode": {
    "name": "ipython",
    "version": 3
   },
   "file_extension": ".py",
   "mimetype": "text/x-python",
   "name": "python",
   "nbconvert_exporter": "python",
   "pygments_lexer": "ipython3",
   "version": "3.11.9"
  }
 },
 "nbformat": 4,
 "nbformat_minor": 2
}
