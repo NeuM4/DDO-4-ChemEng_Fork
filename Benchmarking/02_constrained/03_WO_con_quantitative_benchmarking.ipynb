{
 "cells": [
  {
   "cell_type": "code",
   "execution_count": 1,
   "metadata": {},
   "outputs": [],
   "source": [
    "from WO import *\n",
    "from BO import *\n",
    "from COBYLA import *\n",
    "from COBYQA import *\n",
    "from utils import *\n",
    "from test_function_constr import *\n",
    "from CUATRO import *\n",
    "\n"
   ]
  },
  {
   "cell_type": "code",
   "execution_count": 2,
   "metadata": {},
   "outputs": [],
   "source": [
    "algorithms_test = [\n",
    "    # CBO_opt, \n",
    "    # CBO_TR_opt,\n",
    "    COBYLA, \n",
    "    # COBYQA,\n",
    "    # opt_CUATRO\n",
    "]\n",
    "\n",
    "functions_test  = [\n",
    "    'WO_f',\n",
    "    ]\n",
    "\n",
    "N_x_l        = [\n",
    "    2,\n",
    "    ]               # Number of input dimensions\n",
    "\n",
    "start_       = [5, 10, 15] # we start counting the last 15 points / 40 points / 85 points from each trajectory instead of all of them\n",
    "\n",
    "reps         = 2\n",
    "\n",
    "f_eval_l     = [\n",
    "    20,\n",
    "    ]  # These are the number of function evaluations (length of trajectory) foreach run in reps. The number depends on the input dimension N_x_l\n",
    "\n",
    "bounds  = np.array([[4., 7.], [70., 100.]])\n",
    "home_dir  = 'images/WO/trajectory_plots_1D_&_tables'\n",
    "SaveData = True"
   ]
  },
  {
   "cell_type": "code",
   "execution_count": 3,
   "metadata": {},
   "outputs": [
    {
     "name": "stdout",
     "output_type": "stream",
     "text": [
      "Please enter some text before saving.\n",
      "im here\n",
      "=====================  WO_f D2\n",
      "==  COBYLA\n"
     ]
    },
    {
     "ename": "TypeError",
     "evalue": "bad operand type for unary -: 'list'",
     "output_type": "error",
     "traceback": [
      "\u001b[1;31m---------------------------------------------------------------------------\u001b[0m",
      "\u001b[1;31mTypeError\u001b[0m                                 Traceback (most recent call last)",
      "Cell \u001b[1;32mIn[3], line 1\u001b[0m\n\u001b[1;32m----> 1\u001b[0m info, trajectories, timestamp \u001b[38;5;241m=\u001b[39m ML4CE_con_eval(N_x_l, f_eval_l, functions_test, algorithms_test, reps, home_dir, bounds\u001b[38;5;241m=\u001b[39mbounds, SafeData\u001b[38;5;241m=\u001b[39mSaveData)\n",
      "File \u001b[1;32mc:\\Users\\mathi\\OneDrive\\01_Studium\\PhD\\Projects\\01_Book_Chapter\\DDO-4-ChemEng\\Benchmarking\\02_constrained\\utils.py:180\u001b[0m, in \u001b[0;36mML4CE_con_eval\u001b[1;34m(N_x_l, f_eval_l, functions_test, algorithms_test, reps, home_dir, bounds, SafeData)\u001b[0m\n\u001b[0;32m    178\u001b[0m X_all \u001b[38;5;241m=\u001b[39m np\u001b[38;5;241m.\u001b[39marray(X_all)\n\u001b[0;32m    179\u001b[0m \u001b[38;5;66;03m# capture constraint handling\u001b[39;00m\n\u001b[1;32m--> 180\u001b[0m trajectories[dim_S][i_function][\u001b[38;5;124m'\u001b[39m\u001b[38;5;124mvio_g_values\u001b[39m\u001b[38;5;124m'\u001b[39m][\u001b[38;5;28mstr\u001b[39m(i_algorithm\u001b[38;5;241m.\u001b[39m\u001b[38;5;18m__name__\u001b[39m)]\u001b[38;5;241m.\u001b[39mappend([\u001b[38;5;241m-\u001b[39mt_\u001b[38;5;241m.\u001b[39mcon_test(x) \u001b[38;5;28;01mfor\u001b[39;00m x \u001b[38;5;129;01min\u001b[39;00m X_all])\n\u001b[0;32m    181\u001b[0m \u001b[38;5;66;03m# re-test for feasibility\u001b[39;00m\n\u001b[0;32m    182\u001b[0m f_feas \u001b[38;5;241m=\u001b[39m Test_function(i_function, N_x_, \u001b[38;5;28;01mTrue\u001b[39;00m)\n",
      "File \u001b[1;32mc:\\Users\\mathi\\OneDrive\\01_Studium\\PhD\\Projects\\01_Book_Chapter\\DDO-4-ChemEng\\Benchmarking\\02_constrained\\utils.py:180\u001b[0m, in \u001b[0;36m<listcomp>\u001b[1;34m(.0)\u001b[0m\n\u001b[0;32m    178\u001b[0m X_all \u001b[38;5;241m=\u001b[39m np\u001b[38;5;241m.\u001b[39marray(X_all)\n\u001b[0;32m    179\u001b[0m \u001b[38;5;66;03m# capture constraint handling\u001b[39;00m\n\u001b[1;32m--> 180\u001b[0m trajectories[dim_S][i_function][\u001b[38;5;124m'\u001b[39m\u001b[38;5;124mvio_g_values\u001b[39m\u001b[38;5;124m'\u001b[39m][\u001b[38;5;28mstr\u001b[39m(i_algorithm\u001b[38;5;241m.\u001b[39m\u001b[38;5;18m__name__\u001b[39m)]\u001b[38;5;241m.\u001b[39mappend([\u001b[38;5;241m-\u001b[39mt_\u001b[38;5;241m.\u001b[39mcon_test(x) \u001b[38;5;28;01mfor\u001b[39;00m x \u001b[38;5;129;01min\u001b[39;00m X_all])\n\u001b[0;32m    181\u001b[0m \u001b[38;5;66;03m# re-test for feasibility\u001b[39;00m\n\u001b[0;32m    182\u001b[0m f_feas \u001b[38;5;241m=\u001b[39m Test_function(i_function, N_x_, \u001b[38;5;28;01mTrue\u001b[39;00m)\n",
      "\u001b[1;31mTypeError\u001b[0m: bad operand type for unary -: 'list'"
     ]
    }
   ],
   "source": [
    "info, trajectories, timestamp = ML4CE_con_eval(N_x_l, f_eval_l, functions_test, algorithms_test, reps, home_dir, bounds=bounds, SafeData=SaveData)"
   ]
  },
  {
   "cell_type": "code",
   "execution_count": null,
   "metadata": {},
   "outputs": [],
   "source": [
    "test_res, vio_dict= ML4CE_con_table(trajectories, algorithms_test, functions_test, N_x_l)"
   ]
  },
  {
   "cell_type": "code",
   "execution_count": null,
   "metadata": {},
   "outputs": [],
   "source": [
    "ML4CE_con_table_plot(test_res, functions_test, algorithms_test, N_x_l, home_dir, timestamp, SafeFig = SaveData)"
   ]
  },
  {
   "cell_type": "code",
   "execution_count": null,
   "metadata": {},
   "outputs": [],
   "source": [
    "ML4CE_con_graph_abs(trajectories, algorithms_test, functions_test, N_x_l, home_dir, timestamp, SafeFig=SaveData)"
   ]
  },
  {
   "cell_type": "code",
   "execution_count": null,
   "metadata": {},
   "outputs": [],
   "source": [
    "ML4CE_con_graph_abs_g(trajectories, algorithms_test, functions_test, N_x_l, home_dir, timestamp, SafeFig=SaveData)"
   ]
  }
 ],
 "metadata": {
  "kernelspec": {
   "display_name": "ddopt_2",
   "language": "python",
   "name": "python3"
  },
  "language_info": {
   "codemirror_mode": {
    "name": "ipython",
    "version": 3
   },
   "file_extension": ".py",
   "mimetype": "text/x-python",
   "name": "python",
   "nbconvert_exporter": "python",
   "pygments_lexer": "ipython3",
   "version": "3.11.9"
  }
 },
 "nbformat": 4,
 "nbformat_minor": 2
}
