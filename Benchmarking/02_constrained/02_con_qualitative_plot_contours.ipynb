{
 "cells": [
  {
   "cell_type": "code",
   "execution_count": 1,
   "metadata": {},
   "outputs": [],
   "source": [
    "from BO import *\n",
    "from COBYLA import *\n",
    "from COBYQA import *\n",
    "from utils import *\n",
    "from test_function_constr import *"
   ]
  },
  {
   "cell_type": "code",
   "execution_count": 2,
   "metadata": {},
   "outputs": [
    {
     "name": "stdout",
     "output_type": "stream",
     "text": [
      "- preliminar data supplied, computing objective and constraint values\n",
      "note: remember constraints are set as positive, so they should be set as -g(x)\n"
     ]
    },
    {
     "name": "stderr",
     "output_type": "stream",
     "text": [
      " 50%|█████     | 5/10 [00:04<00:04,  1.19it/s]c:\\Users\\mathi\\.conda\\envs\\ddopt\\Lib\\site-packages\\scipy\\optimize\\_optimize.py:404: RuntimeWarning: Values in x were outside bounds during a minimize step, clipping to bounds\n",
      "  warnings.warn(\"Values in x were outside bounds during a \"\n",
      "100%|██████████| 10/10 [00:14<00:00,  1.41s/it]\n"
     ]
    },
    {
     "name": "stdout",
     "output_type": "stream",
     "text": [
      "------------------------------------FINISH-----------------------------------------\n",
      "root_directory: c:\\Users\\mathi\\OneDrive\\01_Studium\\PhD\\Projects\\01_Book_Chapter\\Coursework1_DDO\\benchmarking\\02_constrained\n",
      "- preliminar data supplied, computing objective and constraint values\n",
      "note: remember constraints are set as positive, so they should be set as -g(x)\n"
     ]
    },
    {
     "name": "stderr",
     "output_type": "stream",
     "text": [
      "100%|██████████| 10/10 [00:12<00:00,  1.23s/it]\n"
     ]
    },
    {
     "name": "stdout",
     "output_type": "stream",
     "text": [
      "------------------------------------FINISH-----------------------------------------\n",
      "root_directory: c:\\Users\\mathi\\OneDrive\\01_Studium\\PhD\\Projects\\01_Book_Chapter\\Coursework1_DDO\\benchmarking\\02_constrained\n",
      "- preliminar data supplied, computing objective and constraint values\n",
      "note: remember constraints are set as positive, so they should be set as -g(x)\n"
     ]
    },
    {
     "name": "stderr",
     "output_type": "stream",
     "text": [
      "100%|██████████| 10/10 [00:11<00:00,  1.19s/it]\n"
     ]
    },
    {
     "name": "stdout",
     "output_type": "stream",
     "text": [
      "------------------------------------FINISH-----------------------------------------\n",
      "root_directory: c:\\Users\\mathi\\OneDrive\\01_Studium\\PhD\\Projects\\01_Book_Chapter\\Coursework1_DDO\\benchmarking\\02_constrained\n",
      "- preliminar data supplied, computing objective and constraint values\n",
      "note: remember constraints are set as positive, so they should be set as -g(x)\n"
     ]
    },
    {
     "name": "stderr",
     "output_type": "stream",
     "text": [
      "100%|██████████| 10/10 [00:13<00:00,  1.37s/it]\n"
     ]
    },
    {
     "name": "stdout",
     "output_type": "stream",
     "text": [
      "------------------------------------FINISH-----------------------------------------\n",
      "root_directory: c:\\Users\\mathi\\OneDrive\\01_Studium\\PhD\\Projects\\01_Book_Chapter\\Coursework1_DDO\\benchmarking\\02_constrained\n",
      "- preliminar data supplied, computing objective and constraint values\n",
      "note: remember constraints are set as positive, so they should be set as -g(x)\n"
     ]
    },
    {
     "name": "stderr",
     "output_type": "stream",
     "text": [
      "100%|██████████| 10/10 [00:14<00:00,  1.42s/it]\n"
     ]
    },
    {
     "name": "stdout",
     "output_type": "stream",
     "text": [
      "------------------------------------FINISH-----------------------------------------\n",
      "root_directory: c:\\Users\\mathi\\OneDrive\\01_Studium\\PhD\\Projects\\01_Book_Chapter\\Coursework1_DDO\\benchmarking\\02_constrained\n",
      "- preliminar data supplied, computing objective and constraint values\n",
      "note: remember constraints are set as positive, so they should be set as -g(x)\n"
     ]
    },
    {
     "name": "stderr",
     "output_type": "stream",
     "text": [
      "100%|██████████| 10/10 [00:13<00:00,  1.39s/it]\n"
     ]
    },
    {
     "name": "stdout",
     "output_type": "stream",
     "text": [
      "------------------------------------FINISH-----------------------------------------\n",
      "root_directory: c:\\Users\\mathi\\OneDrive\\01_Studium\\PhD\\Projects\\01_Book_Chapter\\Coursework1_DDO\\benchmarking\\02_constrained\n"
     ]
    },
    {
     "name": "stderr",
     "output_type": "stream",
     "text": [
      "c:\\Users\\mathi\\.conda\\envs\\ddopt\\Lib\\site-packages\\scipy\\optimize\\_minimize.py:716: OptimizeWarning: Unknown solver options: maxfev\n",
      "  res = _minimize_cobyla(fun, x0, args, constraints, callback=callback,\n"
     ]
    },
    {
     "name": "stdout",
     "output_type": "stream",
     "text": [
      "root_directory: c:\\Users\\mathi\\OneDrive\\01_Studium\\PhD\\Projects\\01_Book_Chapter\\Coursework1_DDO\\benchmarking\\02_constrained\n",
      "root_directory: c:\\Users\\mathi\\OneDrive\\01_Studium\\PhD\\Projects\\01_Book_Chapter\\Coursework1_DDO\\benchmarking\\02_constrained\n",
      "root_directory: c:\\Users\\mathi\\OneDrive\\01_Studium\\PhD\\Projects\\01_Book_Chapter\\Coursework1_DDO\\benchmarking\\02_constrained\n",
      "root_directory: c:\\Users\\mathi\\OneDrive\\01_Studium\\PhD\\Projects\\01_Book_Chapter\\Coursework1_DDO\\benchmarking\\02_constrained\n",
      "root_directory: c:\\Users\\mathi\\OneDrive\\01_Studium\\PhD\\Projects\\01_Book_Chapter\\Coursework1_DDO\\benchmarking\\02_constrained\n",
      "root_directory: c:\\Users\\mathi\\OneDrive\\01_Studium\\PhD\\Projects\\01_Book_Chapter\\Coursework1_DDO\\benchmarking\\02_constrained\n"
     ]
    }
   ],
   "source": [
    "alg_list = [\n",
    "    CBO_opt,\n",
    "    CBO_TR_opt,\n",
    "    COBYLA,\n",
    "    COBYQA\n",
    "]\n",
    "\n",
    "N_x_ = 2                                                    # number of input dimensions\n",
    "\n",
    "func_list = [\n",
    "    'Rosenbrock_f',\n",
    "    'Antonio_f',\n",
    "    'Matyas_f',\n",
    "]\n",
    "i_rep = 1\n",
    "f_eval_ = 20                                                 # length of trajectory (function evaluation budget). This has to be more than 10, since we're using 10 points to sample for the initial GPs\n",
    "track_x = False\n",
    "bounds_ = [[-5., 5.], [-5., 5.]] # x1 bounds, x2 bounds these are taken from the benchmarking routine\n",
    "TR_plot       = True\n",
    "\n",
    "for alg_ in alg_list:\n",
    "    for func_ in func_list:\n",
    "        t_ = Test_function(func_, n_x=N_x_, track_x=track_x)\n",
    "        a, b, team_names, cids, X_opt_plot, TR_l, xnew, backtrck_l, samples_number = alg_(t_, N_x_, bounds_, f_eval_, i_rep)\n",
    "        ML4CE_con_contours(t_, alg_, bounds_, X_opt_plot, xnew, samples_number, func_, TR_plot, TR_l, SafeFig = True)\n"
   ]
  },
  {
   "cell_type": "markdown",
   "metadata": {},
   "source": [
    "### Plotting old"
   ]
  },
  {
   "cell_type": "code",
   "execution_count": 3,
   "metadata": {},
   "outputs": [],
   "source": [
    "# cons_eval_l = [t_.con_test]\n",
    "\n",
    "# TR_plot       = True\n",
    "# n_points = 100\n"
   ]
  },
  {
   "cell_type": "code",
   "execution_count": 4,
   "metadata": {},
   "outputs": [],
   "source": [
    "# def plot_cont_perf(\n",
    "#     cons_plot, \n",
    "#     bounds_plot, \n",
    "#     X_opt, \n",
    "#     xnew, \n",
    "#     samples_number,\n",
    "#     obj_system, \n",
    "#     cons_eval_l, \n",
    "#     func_type,\n",
    "#     TR_plot=False, \n",
    "#     TR_l=False):\n",
    "    \n",
    "    \n",
    "#     ### plot constraint satisfaction ###\n",
    "#     # compute constraint values\n",
    "\n",
    "#     if i_algorithm.__name__ == 'CBO_TR':\n",
    "#         X_trajectory = X_opt[samples_number:,:]\n",
    "#     else:\n",
    "#         X_trajectory = X_opt\n",
    "#     all_cons = []\n",
    "#     for con_ii in range(len(con_list)):\n",
    "#         con_list = []\n",
    "#         for p_i in range(X_trajectory.shape[0]):\n",
    "#             con_list.append(-cons_eval_l[con_ii](X_trajectory[p_i,:]))\n",
    "#         all_cons.append(copy.copy(con_list))\n",
    "#         ax1.plot(con_list,'-o')\n",
    "#     ax1.set_title('Constraint satisfaction')\n",
    "#     ax1.grid(True)\n",
    "\n",
    "#     # ## plot objective function value trajectory ###\n",
    "#     # # compute objective function values\n",
    "#     # all_cons = np.array(all_cons)\n",
    "#     # obj_list = []\n",
    "#     # obj_list.append(obj_system(X_trajectory[0,:]))\n",
    "#     # obj_best = obj_system(X_trajectory[0,:])\n",
    "#     # for p_i in range(X_trajectory.shape[0]-1):\n",
    "#     #     obj_new = obj_system(X_trajectory[p_i+1,:])\n",
    "#     #     if np.max(all_cons[:,p_i+1])<=0:\n",
    "#     #         obj_best = min(obj_best,obj_new)\n",
    "#     #     obj_list.append(obj_best)\n",
    "#     # ax2.plot(obj_list,'-o')\n",
    "#     # ax2.set_title('Objective function')\n",
    "#     # ax2.grid(True)\n",
    "#     # plt.tight_layout()\n",
    "#     # plt.show()"
   ]
  },
  {
   "cell_type": "code",
   "execution_count": 5,
   "metadata": {},
   "outputs": [],
   "source": [
    "# def cons_plot(x2, func_type):\n",
    "\n",
    "#     '''This plots the constraints'''\n",
    "\n",
    "#     if func_type == 'Rosenbrock_f':\n",
    "\n",
    "#         '''\n",
    "#         This is the Rosenbrock-constraint \n",
    "#         but re-formulated as x1 = f(x2) for plotting.\n",
    "#         Therefore, x2 is in the return statement and the corresponding x1 values \n",
    "#         will be calculated to give a list of x1 and x2 for plotting\n",
    "#         '''\n",
    "#         return -1.27 + 2.83*x2 - 0.69*(x2**2)\n",
    "    \n",
    "#     if func_type == 'Antonio_f':\n",
    "\n",
    "#         return 1.5*x2 + 0.6\n",
    "    \n",
    "#     if func_type == 'Matyas_f':\n",
    "\n",
    "#         return 6.31225*x2+3.60257"
   ]
  }
 ],
 "metadata": {
  "kernelspec": {
   "display_name": "ddopt",
   "language": "python",
   "name": "python3"
  },
  "language_info": {
   "codemirror_mode": {
    "name": "ipython",
    "version": 3
   },
   "file_extension": ".py",
   "mimetype": "text/x-python",
   "name": "python",
   "nbconvert_exporter": "python",
   "pygments_lexer": "ipython3",
   "version": "3.12.0"
  }
 },
 "nbformat": 4,
 "nbformat_minor": 2
}
