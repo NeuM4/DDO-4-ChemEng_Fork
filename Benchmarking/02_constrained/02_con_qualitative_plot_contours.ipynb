{
 "cells": [
  {
   "cell_type": "code",
   "execution_count": null,
   "metadata": {},
   "outputs": [],
   "source": [
    "from BO import *\n",
    "from COBYLA import *\n",
    "from COBYQA import *\n",
    "from utils import *\n",
    "from test_function_constr import *\n",
    "from CUATRO import *"
   ]
  },
  {
   "cell_type": "code",
   "execution_count": null,
   "metadata": {},
   "outputs": [],
   "source": [
    "alg_list = [\n",
    "    CBO_opt, # len_f = 92, len_g = 69, there are 11 starter points, for some reason in Matyas fkt nur 84\n",
    "    COBYLA, # constrain evaluations are one more than function evaluations. The first 'none' in constraint evaluations has to be removed\n",
    "    COBYQA, # constraint evaluations match function evaluations \n",
    "    opt_CUATRO # constraint evaluations match function evaluations \n",
    "]\n",
    "\n",
    "N_x_ = 2                                                    # number of input dimensions\n",
    "\n",
    "func_list = [\n",
    "    'Rosenbrock_f',\n",
    "    'Antonio_f',\n",
    "    'Matyas_f',\n",
    "]\n",
    "i_rep = 0\n",
    "track_x = True\n",
    "# bounds_ = [[-5, 5],[-5, 5]] # x1 bounds, x2 bounds these are taken from the benchmarking routine\n",
    "bounds_             = np.array([[-5,5] for i in range(N_x_)])\n",
    "TR_plot       = False\n",
    "x_shift_origin = np.array([[0],[0]]) # when wanting to not shift the objective function\n",
    "\n",
    "# for alg_ in alg_list:\n",
    "#     for func_ in func_list:\n",
    "#         t_ = Test_function(func_, n_x=N_x_, track_x=track_x)\n",
    "#         a, b, team_names, cids, X_opt_plot, TR_l, xnew, backtrck_l, samples_number = alg_(t_, N_x_, bounds_, f_eval_, i_rep)\n",
    "#         ML4CE_con_contours(t_, alg_, bounds_, X_opt_plot, xnew, samples_number, func_, TR_plot, TR_l, SafeFig = False)\n",
    "\n",
    "DataSave = True\n",
    "directory_name = 'images/trajectory_plots_2D'\n"
   ]
  },
  {
   "cell_type": "code",
   "execution_count": null,
   "metadata": {},
   "outputs": [],
   "source": [
    "ML4CE_con_contour_allin1(func_list, alg_list, N_x_, x_shift_origin, bounds_, i_rep, bounds_plot=bounds_, directory_name=directory_name, SafeFig=DataSave)"
   ]
  }
 ],
 "metadata": {
  "kernelspec": {
   "display_name": "ddopt",
   "language": "python",
   "name": "python3"
  },
  "language_info": {
   "codemirror_mode": {
    "name": "ipython",
    "version": 3
   },
   "file_extension": ".py",
   "mimetype": "text/x-python",
   "name": "python",
   "nbconvert_exporter": "python",
   "pygments_lexer": "ipython3",
   "version": "3.11.9"
  }
 },
 "nbformat": 4,
 "nbformat_minor": 2
}
