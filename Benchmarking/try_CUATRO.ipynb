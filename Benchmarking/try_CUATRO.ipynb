{
 "cells": [
  {
   "cell_type": "code",
   "execution_count": null,
   "metadata": {},
   "outputs": [],
   "source": [
    "import numpy as np\n",
    "from cuatro import CUATRO\n",
    "\n",
    "def sim(x):\n",
    "    g1 = lambda x: (x[0] - 1)**3 - x[1] + 1\n",
    "    g2 = lambda x: x[0] + x[1] - 1.8\n",
    "    f = lambda x: (1 - x[0])**2 + 100*(x[1] - x[0]**2)**2\n",
    "    return f(x), [g1(x), g2(x)]\n",
    "\n",
    "x0 = np.array([-2., 2.])\n",
    "bounds = np.array([(-5., 5.) for _ in range(len(x0))])\n",
    "budget = 100\n",
    "\n",
    "solver_instance = CUATRO(\n",
    "                    init_radius = 0.1, # how much radius should the initial area cover \n",
    "                    beta_red = 0.001**(2/budget), # trust region radius reduction heuristic\n",
    "                    rescale_radius=True, # scale radii to unit box\n",
    "                    method = 'local',\n",
    "                    N_min_samples = 6, # \n",
    "                    constr_handling = 'Discrimination', # or 'Regression'\n",
    "                    sampling = 'base', # maximize closest distance in trust region exploration\n",
    "                    explore = 'feasible_sampling', \n",
    "                    # reject exploration samples that are predicted to violate constraints\n",
    "                )\n",
    " \n",
    "res = solver_instance.run_optimiser(sim=sim, x0=x0, bounds=bounds, max_f_eval=budget, )\n",
    "print(res['f_best_so_far'], res['x_best_so_far'])"
   ]
  }
 ],
 "metadata": {
  "language_info": {
   "name": "python"
  }
 },
 "nbformat": 4,
 "nbformat_minor": 2
}
