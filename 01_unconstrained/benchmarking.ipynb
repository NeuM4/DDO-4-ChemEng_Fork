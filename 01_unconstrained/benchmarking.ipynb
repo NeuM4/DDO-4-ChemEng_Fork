{
 "cells": [
  {
   "cell_type": "code",
   "execution_count": null,
   "metadata": {},
   "outputs": [],
   "source": [
    "###########\n",
    "# Imports #\n",
    "###########\n",
    "\n",
    "# importing libraries\n",
    "import matplotlib.pyplot as plt\n",
    "import copy\n",
    "# importing algorithms\n",
    "from BFGS_multistart import* \n",
    "from Stochastic_local_search import* \n",
    "from Cuadratic_opt import*\n",
    "from Scipy_opt_algs import*\n",
    "from BO_NpScpy import*\n",
    "# importing test functions\n",
    "from test_function import* \n",
    "from utils import *\n",
    "\n",
    "##########################\n",
    "# Algorithms & Functions #\n",
    "##########################\n",
    "\n",
    "algorithms_test = [\n",
    "    BFGS_gs, \n",
    "    LS_QM, \n",
    "    SS_alg,\n",
    "    opt_Powell, \n",
    "    opt_DE,\n",
    "    opt_COBYLA,\n",
    "    opt_NelderMead,\n",
    "\n",
    "# # Feel free to add these commented-out algorithms as a further test,\n",
    "# # however, do note they are more time-consuming to run\n",
    "# opt_Direct, \n",
    "# opt_Basinhopping, \n",
    "# # BO_np_scipy\n",
    "] \n",
    "\n",
    "functions_test  = [  #!!! Multimodal before Unimodal!!!\n",
    "    'Rastringin_f',\n",
    "    'Ackely_f',\n",
    "    'Rosenbrock_f', \n",
    "    'Levy_f', \n",
    "    ]\n",
    "\n",
    "multim  = ['Rastringin_f', 'Ackely_f']\n",
    "unim    = ['Rosenbrock_f', 'Levy_f']\n",
    "\n",
    "###########################\n",
    "# Optimization parameters #\n",
    "###########################\n",
    "\n",
    "N_x_l        = [\n",
    "    2, \n",
    "    5, \n",
    "    10,\n",
    "    ]               # Number of input dimensions\n",
    "\n",
    "start_       = [5, 10, 15]              # starting points on the trajectory of the algorithm on the test function\n",
    "\n",
    "reps         = 5                        # We run each algorithm 5 times on each objective function. The number of evaluations per run is given by f_eval_l\n",
    "f_eval_l     = [\n",
    "    20, \n",
    "    50, \n",
    "    100\n",
    "    ]  # These are the number of function evaluations (length of trajectory) foreach run in reps. The number depends on the input dimension N_x_l"
   ]
  },
  {
   "cell_type": "code",
   "execution_count": null,
   "metadata": {},
   "outputs": [],
   "source": [
    "info, trajectories = ML4CE_eval_algs_uncon(N_x_l,f_eval_l,functions_test,algorithms_test,reps)"
   ]
  },
  {
   "cell_type": "code",
   "execution_count": null,
   "metadata": {},
   "outputs": [],
   "source": [
    "# import pickle\n",
    "\n",
    "# with open('ML4CE_trial_data.py', 'wb') as file:\n",
    "#     file.write(pickle.dumps(test_results))\n",
    "# # folder to later save \n",
    "# folderplt_ = 'plots/Convergence_plots/'"
   ]
  },
  {
   "cell_type": "code",
   "execution_count": null,
   "metadata": {},
   "outputs": [],
   "source": [
    "array = ML4CE_table_uncon(trajectories,algorithms_test,functions_test, multim, N_x_l, start_)"
   ]
  },
  {
   "cell_type": "markdown",
   "metadata": {},
   "source": [
    "### Plot performance tables "
   ]
  },
  {
   "cell_type": "code",
   "execution_count": null,
   "metadata": {},
   "outputs": [],
   "source": [
    "# use for performance table\n",
    "columns = functions_test + ['Multimodal','Unimodal','All'] # !!! Do not change this order !!!\n",
    "rows_names_l = ['D' + str(num) for num in N_x_l]\n",
    "rows_names_l.append('All')\n",
    "\n",
    "# Plotting each table underneath each other\n",
    "num_tables = array.shape[0]\n",
    "num_rows = num_tables\n",
    "num_cols = 1\n",
    "\n",
    "plt.figure(figsize=(10, 5*num_tables))  # Adjust the figure size as needed\n",
    "for i in range(num_tables):\n",
    "    matrix = array[i]\n",
    "    plt.subplot(num_rows, num_cols, i+1)\n",
    "    plt.axis('off')\n",
    "    plt.table(\n",
    "        cellText=matrix, \n",
    "        loc='center', \n",
    "        cellLoc='center',\n",
    "        colLabels=columns,\n",
    "        rowLabels=rows_names_l\n",
    "        )\n",
    "    plt.title(f'Table {algorithms_test[i].__name__}')\n",
    "\n",
    "plt.tight_layout()  # Adjust the layout to prevent overlapping\n",
    "plt.show()"
   ]
  },
  {
   "cell_type": "code",
   "execution_count": null,
   "metadata": {},
   "outputs": [],
   "source": [
    "# # save file    \n",
    "# if folderplt_ !=False:\n",
    "#     plt.savefig(folderplt_+str(i_alg.__name__)+'_ConvergencePlot'+'.png', dpi=150,\n",
    "#                 bbox_inches='tight')\n",
    "# plt.close()"
   ]
  }
 ],
 "metadata": {
  "kernelspec": {
   "display_name": "ddopt",
   "language": "python",
   "name": "python3"
  },
  "language_info": {
   "codemirror_mode": {
    "name": "ipython",
    "version": 3
   },
   "file_extension": ".py",
   "mimetype": "text/x-python",
   "name": "python",
   "nbconvert_exporter": "python",
   "pygments_lexer": "ipython3",
   "version": "3.12.0"
  }
 },
 "nbformat": 4,
 "nbformat_minor": 2
}
