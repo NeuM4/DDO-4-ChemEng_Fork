{
 "cells": [
  {
   "cell_type": "code",
   "execution_count": 1,
   "metadata": {},
   "outputs": [],
   "source": [
    "## Implementing SafeOpt https://github.com/befelix/SafeOpt"
   ]
  },
  {
   "cell_type": "code",
   "execution_count": 2,
   "metadata": {},
   "outputs": [],
   "source": [
    "from __future__ import print_function, division, absolute_import\n",
    "import GPy\n",
    "import numpy as np\n",
    "import matplotlib as mpl\n",
    "import matplotlib.pyplot as plt\n",
    "\n",
    "from safeopt_local.safeopt_f import *"
   ]
  },
  {
   "cell_type": "code",
   "execution_count": 4,
   "metadata": {},
   "outputs": [
    {
     "name": "stdout",
     "output_type": "stream",
     "text": [
      "Min found at: [-0.55555556  0.25252525]\n",
      "Obj val: 1.7421359230473685\n"
     ]
    }
   ],
   "source": [
    "def minus_f(f, x):\n",
    "    # Apply the transformation by multiplying the output of the original function by -1\n",
    "    return -1 * f(x)\n",
    "\n",
    "def safeopt_optimize(f, x_dim, bounds, iter_total):\n",
    "\n",
    "    # Initialize GP prior\n",
    "    x_init = np.zeros((1, x_dim))\n",
    "    y_init = np.array([[minus_f(f,x_init)]])\n",
    "    gp = GPy.models.GPRegression(x_init, y_init, noise_var=0.01**2)\n",
    "\n",
    "    # Generate linearly spaced combinations as parameter set\n",
    "    parameter_set = linearly_spaced_combinations(bounds, num_samples=100)\n",
    "\n",
    "    # Initialize SafeOpt\n",
    "    opt = SafeOpt(gp, parameter_set, fmin = -1)\n",
    "\n",
    "    # Optimization loop\n",
    "    for i in range(iter_total):\n",
    "        # Get next parameters to evaluate\n",
    "        next_parameters = opt.optimize()\n",
    "\n",
    "        # Evaluate objective function\n",
    "        performance = np.array([[minus_f(f,next_parameters)]])\n",
    "\n",
    "        # Add new data point to the GP\n",
    "        opt.add_new_data_point(next_parameters, performance)\n",
    "\n",
    "        x_res, f_res = opt.get_maximum()\n",
    "        team_names = ['7','8']\n",
    "        cids = ['01234567']\n",
    "    return x_res, f_res, team_names, cids\n",
    "\n",
    "\n",
    "def objective_function(x):\n",
    "    \"\"\"Rosenbrock function\"\"\"\n",
    "    return np.sum((100 * (x[1:] - x[:-1]**2)**2 + (x[:-1] - 1)**2))\n",
    "\n",
    "\n",
    "# Example usage:\n",
    "x_dim = 2  \n",
    "bounds = [[-5., 5.]] * x_dim\n",
    "iter_total = 20\n",
    "\n",
    "x_res, f_res, team_names, cids = safeopt_optimize(objective_function, x_dim, bounds, iter_total)\n",
    "print(\"Min found at:\", x_res)\n",
    "print(\"Obj val:\", f_res)\n"
   ]
  }
 ],
 "metadata": {
  "kernelspec": {
   "display_name": "safeopt_env",
   "language": "python",
   "name": "python3"
  },
  "language_info": {
   "codemirror_mode": {
    "name": "ipython",
    "version": 3
   },
   "file_extension": ".py",
   "mimetype": "text/x-python",
   "name": "python",
   "nbconvert_exporter": "python",
   "pygments_lexer": "ipython3",
   "version": "0.0.0"
  }
 },
 "nbformat": 4,
 "nbformat_minor": 2
}
